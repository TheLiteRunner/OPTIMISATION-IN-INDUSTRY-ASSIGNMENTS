{
 "cells": [
  {
   "attachments": {},
   "cell_type": "markdown",
   "metadata": {},
   "source": [
    "The following code cretes a \"good random CP matrix and team_strength(numbers[]) list\""
   ]
  },
  {
   "cell_type": "code",
   "execution_count": 17,
   "metadata": {},
   "outputs": [
    {
     "name": "stdout",
     "output_type": "stream",
     "text": [
      "Generated numbers: [119, 133, 100, 122, 133, 132, 122, 140, 126, 113, 126, 101, 114, 114]\n",
      "Total sum: 1695\n",
      "Generated binary matrix:\n",
      "[1, 1, 1, 1, 1]\n",
      "[1, 1, 1, 0, 0]\n",
      "[1, 1, 0, 1, 1]\n",
      "[0, 1, 1, 0, 1]\n",
      "[0, 0, 1, 0, 1]\n",
      "[0, 0, 0, 0, 1]\n",
      "[1, 1, 0, 0, 0]\n",
      "[0, 0, 1, 1, 0]\n",
      "[1, 0, 1, 1, 1]\n",
      "[0, 0, 0, 0, 0]\n",
      "[0, 1, 0, 1, 0]\n",
      "[0, 0, 0, 0, 1]\n",
      "[1, 0, 0, 0, 0]\n",
      "[0, 0, 1, 0, 0]\n",
      "Mola sums: [714, 722, 887, 611, 833]\n",
      "Condition holds: True\n"
     ]
    }
   ],
   "source": [
    "import random\n",
    "\n",
    "# Initialize variables\n",
    "total = 0\n",
    "numbers = []\n",
    "\n",
    "# Generate team strength such that total strength is less than 2*900\n",
    "while total <= 1800:\n",
    "    num = random.randint(100, 150)\n",
    "    if total + num > 1800:\n",
    "        break\n",
    "    numbers.append(num)\n",
    "    total += num\n",
    "\n",
    "print(\"Generated numbers:\", numbers)\n",
    "print(\"Total sum:\", total)\n",
    "\n",
    "import random\n",
    "\n",
    "# Function to generate a random binary matrix with all 1's in the first row\n",
    "def generate_binary_matrix_with_first_row_ones(rows, cols):\n",
    "    matrix = [[random.randint(0, 1) for _ in range(cols)] for _ in range(rows)]\n",
    "    # Set all elements of the first row to 1\n",
    "    matrix[0] = [1] * cols\n",
    "    return matrix\n",
    "\n",
    "# Function to check if the condition holds\n",
    "def check_condition(binary_matrix, numbers):\n",
    "    mola_sums = []\n",
    "    for col in range(len(binary_matrix[0])):\n",
    "        mola_sum = sum(binary_matrix[row][col] * numbers[row] for row in range(len(numbers)))\n",
    "        mola_sums.append(mola_sum)\n",
    "    return all(mola_sum <= 900 for mola_sum in mola_sums)\n",
    "\n",
    "# Keep generating binary matrices until the condition holds\n",
    "while True:\n",
    "    binary_matrix = generate_binary_matrix_with_first_row_ones(len(numbers), 5)\n",
    "    if check_condition(binary_matrix, numbers):\n",
    "        break\n",
    "\n",
    "# Print the binary matrix\n",
    "print(\"Generated binary matrix:\")\n",
    "for row in binary_matrix:\n",
    "    print(row)\n",
    "\n",
    "# Check the condition\n",
    "mola_sums = []\n",
    "for col in range(len(binary_matrix[0])):\n",
    "    mola_sum = sum(binary_matrix[row][col] * numbers[row] for row in range(len(numbers)))\n",
    "    mola_sums.append(mola_sum)\n",
    "\n",
    "print(\"Mola sums:\", mola_sums)\n",
    "print(\"Condition holds:\", all(mola_sum <= 900 for mola_sum in mola_sums))\n",
    "\n",
    "\n",
    "\n",
    "CP=binary_matrix\n"
   ]
  },
  {
   "attachments": {},
   "cell_type": "markdown",
   "metadata": {},
   "source": [
    "The following Created the gurobi Model, along with the objective function and Constraints  "
   ]
  },
  {
   "cell_type": "code",
   "execution_count": 33,
   "metadata": {},
   "outputs": [
    {
     "name": "stdout",
     "output_type": "stream",
     "text": [
      "Gurobi Optimizer version 11.0.1 build v11.0.1rc0 (mac64[arm] - Darwin 22.1.0 22A400)\n",
      "\n",
      "CPU model: Apple M2\n",
      "Thread count: 8 physical cores, 8 logical processors, using up to 8 threads\n",
      "\n",
      "Optimize a model with 1255 rows, 930 columns and 3090 nonzeros\n",
      "Model fingerprint: 0x44e62156\n",
      "Variable types: 0 continuous, 930 integer (480 binary)\n",
      "Coefficient statistics:\n",
      "  Matrix range     [1e+00, 9e+02]\n",
      "  Objective range  [1e+00, 1e+01]\n",
      "  Bounds range     [1e+00, 2e+02]\n",
      "  RHS range        [1e+00, 2e+02]\n",
      "Found heuristic solution: objective 336.0000000\n",
      "Presolve removed 1200 rows and 846 columns\n",
      "Presolve time: 0.03s\n",
      "Presolved: 55 rows, 84 columns, 198 nonzeros\n",
      "Found heuristic solution: objective 305.0000000\n",
      "Variable types: 0 continuous, 84 integer (42 binary)\n",
      "\n",
      "Root relaxation: objective 2.955333e+02, 62 iterations, 0.00 seconds (0.00 work units)\n",
      "\n",
      "    Nodes    |    Current Node    |     Objective Bounds      |     Work\n",
      " Expl Unexpl |  Obj  Depth IntInf | Incumbent    BestBd   Gap | It/Node Time\n",
      "\n",
      "     0     0  295.53333    0    4  305.00000  295.53333  3.10%     -    0s\n",
      "H    0     0                     300.0000000  295.53333  1.49%     -    0s\n",
      "     0     0  295.53333    0   21  300.00000  295.53333  1.49%     -    0s\n",
      "     0     0  300.00000    0    2  300.00000  300.00000  0.00%     -    0s\n",
      "\n",
      "Cutting planes:\n",
      "  Gomory: 2\n",
      "  Implied bound: 2\n",
      "\n",
      "Explored 1 nodes (107 simplex iterations) in 0.05 seconds (0.01 work units)\n",
      "Thread count was 8 (of 8 available processors)\n",
      "\n",
      "Solution count 3: 300 305 336 \n",
      "\n",
      "Optimal solution found (tolerance 1.00e-04)\n",
      "Best objective 3.000000000000e+02, best bound 3.000000000000e+02, gap 0.0000%\n"
     ]
    }
   ],
   "source": [
    "import gurobipy as gp\n",
    "from gurobipy import GRB\n",
    "\n",
    "# Create a new model\n",
    "model = gp.Model(\"CP_Problem\")\n",
    "\n",
    "# Define T and S\n",
    "T = int(len(numbers) * 0.6)\n",
    "S = len(numbers) - T\n",
    "\n",
    "# Define the decision variables y_ijk\n",
    "y = model.addVars(((i, j, k) for i in range(T+S+1) for j in range(1, 7) for k in range(1, 6)), vtype=GRB.BINARY, name=\"y\")\n",
    "\n",
    "# Define the decision variables X_ijk\n",
    "X = model.addVars(((i, j, k) for i in range(T+S+1) for j in range(1, 7) for k in range(1, 6)), lb=0, ub=150, vtype=GRB.INTEGER, name=\"X\")\n",
    "\n",
    "# Define the decision variables y_new_jk\n",
    "y_new = model.addVars(((j, k) for j in range(1, 7) for k in range(1, 6)), vtype=GRB.BINARY, name=\"y_new\")\n",
    "\n",
    "# Define the objective function\n",
    "# Define the objective function\n",
    "objective1 = 10 * gp.quicksum(y_new[j, k] for j in range(1, 7) for k in range(1, 6))\n",
    "objective2 = gp.quicksum(y[i, j, k] for i in range(1, T+S) for j in range(1, 7) for k in range(1, 6) if CP[i][k-1] == 1)\n",
    "\n",
    "# Combine both objectives into a single objective\n",
    "total_objective = objective1 + objective2\n",
    "\n",
    "# Set the objective in the model\n",
    "model.setObjective(total_objective, GRB.MINIMIZE)\n",
    "\n",
    "\n",
    "# Add constraints for the existing variables y\n",
    "for i in range(T+S+1):\n",
    "    for j in range(1, 7):\n",
    "        for k in range(1, 6):\n",
    "            model.addConstr(X[i, j, k] <= 900 * y[i, j, k])\n",
    "\n",
    "# Add constraints X[I,j,k] >= 0 for all I, j, k\n",
    "for i in range(T+S+1):\n",
    "    for j in range(1, 7):\n",
    "        for k in range(1, 6):\n",
    "            model.addConstr(X[i, j, k] >= 0)\n",
    "\n",
    "# Add constraints for the new variables y_new\n",
    "for j0 in range(1, 7):\n",
    "    for k0 in range(1, 6):\n",
    "        model.addConstr(gp.quicksum(X[i, j0, k0] for i in range(T+S+1)) <= 900 * y_new[j0, k0])\n",
    "\n",
    "# Add constraint 1: Sum of X_ijk <= 150 for all j, k\n",
    "for j in range(1, 7):\n",
    "    for k in range(1, 6):\n",
    "        model.addConstr(gp.quicksum(X[i, j, k] for i in range(T+S+1)) <= 150)\n",
    "\n",
    "# Add constraint 2: y_ijk = 0 for CP(I, k) = 0\n",
    "for i in range(1, T+S):\n",
    "    for j in range(1, 7):\n",
    "        for k in range(1, 6):\n",
    "            if CP[i][k-1] == 0:\n",
    "                model.addConstr(y[i, j, k] == 0)\n",
    "\n",
    "# Add constraint 3: Sum of y_ijk >= 1 for CP(I, k) = 1\n",
    "for j in range(1, 7):\n",
    "    for k in range(1, 6):\n",
    "        model.addConstr(gp.quicksum(y[i, j, k] for i in range(1, T+S)) >= 1)\n",
    "\n",
    "# Add constraint 4: Sum of X_ijk over j for all I and k such that CP[I][k-1]==1 = numbers[I]\n",
    "for i in range(T+S):\n",
    "    for k in range(1, 6):\n",
    "        if CP[i][k-1] == 1:\n",
    "            model.addConstr(gp.quicksum(X[i, j, k] for j in range(1, 7)) == numbers[i])\n",
    "\n",
    "# Solve the problem\n",
    "model.optimize()\n",
    "\n",
    "\n"
   ]
  },
  {
   "cell_type": "code",
   "execution_count": 19,
   "metadata": {},
   "outputs": [
    {
     "name": "stdout",
     "output_type": "stream",
     "text": [
      "Status: 2\n"
     ]
    }
   ],
   "source": [
    "# Print the status of the solution\n",
    "print(\"Status:\", model.status)\n"
   ]
  },
  {
   "attachments": {},
   "cell_type": "markdown",
   "metadata": {},
   "source": [
    "The following gets total employees on each fllor and on each day"
   ]
  },
  {
   "cell_type": "code",
   "execution_count": 34,
   "metadata": {},
   "outputs": [
    {
     "name": "stdout",
     "output_type": "stream",
     "text": [
      "Sum of X for j = 1 and k = 1 : 150.0\n",
      "Sum of X for j = 1 and k = 2 : 150.0\n",
      "Sum of X for j = 1 and k = 3 : 150.0\n",
      "Sum of X for j = 1 and k = 4 : 126.0\n",
      "Sum of X for j = 1 and k = 5 : 150.0\n",
      "Sum of X for j = 2 and k = 1 : 114.0\n",
      "Sum of X for j = 2 and k = 2 : 150.0\n",
      "Sum of X for j = 2 and k = 3 : 150.0\n",
      "Sum of X for j = 2 and k = 4 : 100.0\n",
      "Sum of X for j = 2 and k = 5 : 150.0\n",
      "Sum of X for j = 3 and k = 1 : 150.0\n",
      "Sum of X for j = 3 and k = 2 : 146.0\n",
      "Sum of X for j = 3 and k = 3 : 150.0\n",
      "Sum of X for j = 3 and k = 4 : 119.0\n",
      "Sum of X for j = 3 and k = 5 : 146.0\n",
      "Sum of X for j = 4 and k = 1 : 150.0\n",
      "Sum of X for j = 4 and k = 2 : 0.0\n",
      "Sum of X for j = 4 and k = 3 : 150.0\n",
      "Sum of X for j = 4 and k = 4 : 0.0\n",
      "Sum of X for j = 4 and k = 5 : 122.0\n",
      "Sum of X for j = 5 and k = 1 : 150.0\n",
      "Sum of X for j = 5 and k = 2 : 126.0\n",
      "Sum of X for j = 5 and k = 3 : 137.0\n",
      "Sum of X for j = 5 and k = 4 : 126.0\n",
      "Sum of X for j = 5 and k = 5 : 133.0\n",
      "Sum of X for j = 6 and k = 1 : 0.0\n",
      "Sum of X for j = 6 and k = 2 : 150.0\n",
      "Sum of X for j = 6 and k = 3 : 150.0\n",
      "Sum of X for j = 6 and k = 4 : 140.0\n",
      "Sum of X for j = 6 and k = 5 : 132.0\n"
     ]
    }
   ],
   "source": [
    "# Initialize a dictionary to store the sum of X[i, j, k] for each j and k\n",
    "sum_X = {}\n",
    "\n",
    "# Calculate the sum of X[i, j, k] for each j and k\n",
    "for j in range(1, 7):\n",
    "    for k in range(1, 6):\n",
    "        sum_X[(j, k)] = sum(X[i, j, k].x for i in range(T+S+1) if X[i, j, k].x is not None)\n",
    "\n",
    "# Print the sum of X[i, j, k] for each j and k\n",
    "for j in range(1, 7):\n",
    "    for k in range(1, 6):\n",
    "        print(\"Sum of X for j =\", j, \"and k =\", k, \":\", sum_X[(j, k)] if sum_X[(j, k)] is not None else 0)\n"
   ]
  },
  {
   "cell_type": "code",
   "execution_count": 38,
   "metadata": {},
   "outputs": [
    {
     "name": "stdout",
     "output_type": "stream",
     "text": [
      "[28.0, 50.0, 24.0, 0.0, 0.0, 17.0]\n",
      "[0.0, 0.0, 0.0, 0.0, 0.0, 133.0]\n",
      "[0.0, 100.0, 0.0, 0.0, 0.0, 0.0]\n",
      "[122.0, 0.0, 0.0, 0.0, 0.0, 0.0]\n",
      "[-0.0, -0.0, -0.0, -0.0, -0.0, -0.0]\n",
      "[-0.0, -0.0, -0.0, -0.0, -0.0, -0.0]\n",
      "[0.0, 0.0, 122.0, 0.0, 0.0, 0.0]\n",
      "[-0.0, -0.0, -0.0, -0.0, -0.0, -0.0]\n",
      "[-0.0, -0.0, -0.0, -0.0, -0.0, -0.0]\n",
      "[-0.0, -0.0, -0.0, -0.0, -0.0, -0.0]\n",
      "[0.0, 0.0, 0.0, 0.0, 126.0, 0.0]\n",
      "[-0.0, -0.0, -0.0, -0.0, -0.0, -0.0]\n",
      "[-0.0, -0.0, -0.0, -0.0, -0.0, -0.0]\n",
      "[-0.0, -0.0, -0.0, -0.0, -0.0, -0.0]\n",
      "[-0.0, -0.0, -0.0, -0.0, -0.0, -0.0]\n"
     ]
    }
   ],
   "source": [
    "# Initialize a dictionary to store the values of X[i, j, 1]\n",
    "X_values_k1 = {}\n",
    "\n",
    "# Collect values of X[i, j, 1] for each i\n",
    "for i in range(T+S+1):\n",
    "    X_values_k1[i] = [X[i, j, 2].x if X[i, j, 2].x is not None else 0 for j in range(1, 7)]\n",
    "\n",
    "# Convert the dictionary to a matrix\n",
    "X_matrix_k1 = [[X_values_k1[i][j] for j in range(6)] for i in range(T+S+1)]\n",
    "\n",
    "# Print the matrix\n",
    "for row in X_matrix_k1:\n",
    "    print(row)\n"
   ]
  },
  {
   "cell_type": "code",
   "execution_count": null,
   "metadata": {},
   "outputs": [],
   "source": [
    "# Print the values of all decision variables\n",
    "for v in model.getVars():\n",
    "    print(v.VarName, \"=\", v.x)\n"
   ]
  }
 ],
 "metadata": {
  "kernelspec": {
   "display_name": "Python 3",
   "language": "python",
   "name": "python3"
  },
  "language_info": {
   "codemirror_mode": {
    "name": "ipython",
    "version": 3
   },
   "file_extension": ".py",
   "mimetype": "text/x-python",
   "name": "python",
   "nbconvert_exporter": "python",
   "pygments_lexer": "ipython3",
   "version": "3.11.6"
  },
  "orig_nbformat": 4,
  "vscode": {
   "interpreter": {
    "hash": "aee8b7b246df8f9039afb4144a1f6fd8d2ca17a180786b69acc140d282b71a49"
   }
  }
 },
 "nbformat": 4,
 "nbformat_minor": 2
}
